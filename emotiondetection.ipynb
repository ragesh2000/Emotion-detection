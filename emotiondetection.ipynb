{
  "cells": [
    {
      "cell_type": "code",
      "execution_count": null,
      "metadata": {
        "colab": {
          "base_uri": "https://localhost:8080/"
        },
        "id": "K1qqTwQ6hfQ9",
        "outputId": "fb4200b6-e2ca-4bf2-bb9f-c168ee2efd4f"
      },
      "outputs": [
        {
          "output_type": "stream",
          "name": "stdout",
          "text": [
            "Looking in indexes: https://pypi.org/simple, https://us-python.pkg.dev/colab-wheels/public/simple/\n",
            "Requirement already satisfied: emot in /usr/local/lib/python3.7/dist-packages (3.1)\n"
          ]
        }
      ],
      "source": [
        "!pip install emot"
      ]
    },
    {
      "cell_type": "code",
      "execution_count": null,
      "metadata": {
        "id": "t93yvEWBhoGc"
      },
      "outputs": [],
      "source": [
        "import numpy as np\n",
        "import pandas as pd\n",
        "import nltk\n",
        "import string\n",
        "import tensorflow\n",
        "import seaborn as sns\n",
        "import matplotlib.pyplot as plt\n",
        "import re, sys, os, csv, keras, pickle\n",
        "from nltk.corpus import stopwords\n",
        "from nltk.tokenize import word_tokenize\n",
        "from collections import Counter\n",
        "from sklearn.base import BaseEstimator, TransformerMixin\n",
        "from emot.emo_unicode import UNICODE_EMOJI, EMOTICONS_EMO\n",
        "from nltk.corpus import stopwords\n",
        "from nltk.corpus import wordnet\n",
        "from nltk.tokenize import word_tokenize\n",
        "from nltk.stem import PorterStemmer\n",
        "from nltk.stem import WordNetLemmatizer\n",
        "\n",
        "from keras import regularizers, initializers, optimizers, callbacks\n",
        "from keras.preprocessing.text import Tokenizer\n",
        "from keras.preprocessing.sequence import pad_sequences\n",
        "from keras.utils.np_utils import to_categorical\n",
        "from keras.layers import Conv1D, Dense, Input, Flatten, Concatenate\n",
        "from keras.layers import  MaxPooling1D, Embedding, Dropout, LSTM, GRU, Bidirectional\n",
        "from keras.models import Model\n",
        "from keras import backend as K\n",
        "from keras.layers import Layer, InputSpec\n",
        "from keras.callbacks import ModelCheckpoint\n",
        "\n",
        "\n",
        "%run ExtraFunctions.ipynb"
      ]
    },
    {
      "cell_type": "code",
      "execution_count": null,
      "metadata": {
        "id": "n2m3W6H3hpxL",
        "colab": {
          "base_uri": "https://localhost:8080/",
          "height": 441
        },
        "outputId": "cd4cf19e-b9a1-4497-9718-500a26e9534d"
      },
      "outputs": [
        {
          "output_type": "stream",
          "name": "stdout",
          "text": [
            "shape:  (40000, 4)\n"
          ]
        },
        {
          "output_type": "execute_result",
          "data": {
            "text/plain": [
              "         tweet_id   sentiment         author  \\\n",
              "0      1956967341       empty     xoshayzers   \n",
              "1      1956967666     sadness      wannamama   \n",
              "2      1956967696     sadness      coolfunky   \n",
              "3      1956967789  enthusiasm    czareaquino   \n",
              "4      1956968416     neutral      xkilljoyx   \n",
              "...           ...         ...            ...   \n",
              "39995  1753918954     neutral  showMe_Heaven   \n",
              "39996  1753919001        love       drapeaux   \n",
              "39997  1753919005        love       JenniRox   \n",
              "39998  1753919043   happiness       ipdaman1   \n",
              "39999  1753919049        love    Alpharalpha   \n",
              "\n",
              "                                                 content  \n",
              "0      @tiffanylue i know  i was listenin to bad habi...  \n",
              "1      Layin n bed with a headache  ughhhh...waitin o...  \n",
              "2                    Funeral ceremony...gloomy friday...  \n",
              "3                   wants to hang out with friends SOON!  \n",
              "4      @dannycastillo We want to trade with someone w...  \n",
              "...                                                  ...  \n",
              "39995                                   @JohnLloydTaylor  \n",
              "39996                     Happy Mothers Day  All my love  \n",
              "39997  Happy Mother's Day to all the mommies out ther...  \n",
              "39998  @niariley WASSUP BEAUTIFUL!!! FOLLOW ME!!  PEE...  \n",
              "39999  @mopedronin bullet train from tokyo    the gf ...  \n",
              "\n",
              "[40000 rows x 4 columns]"
            ],
            "text/html": [
              "\n",
              "  <div id=\"df-daad89de-5bf6-4bd4-aad4-2abe5ff687ed\">\n",
              "    <div class=\"colab-df-container\">\n",
              "      <div>\n",
              "<style scoped>\n",
              "    .dataframe tbody tr th:only-of-type {\n",
              "        vertical-align: middle;\n",
              "    }\n",
              "\n",
              "    .dataframe tbody tr th {\n",
              "        vertical-align: top;\n",
              "    }\n",
              "\n",
              "    .dataframe thead th {\n",
              "        text-align: right;\n",
              "    }\n",
              "</style>\n",
              "<table border=\"1\" class=\"dataframe\">\n",
              "  <thead>\n",
              "    <tr style=\"text-align: right;\">\n",
              "      <th></th>\n",
              "      <th>tweet_id</th>\n",
              "      <th>sentiment</th>\n",
              "      <th>author</th>\n",
              "      <th>content</th>\n",
              "    </tr>\n",
              "  </thead>\n",
              "  <tbody>\n",
              "    <tr>\n",
              "      <th>0</th>\n",
              "      <td>1956967341</td>\n",
              "      <td>empty</td>\n",
              "      <td>xoshayzers</td>\n",
              "      <td>@tiffanylue i know  i was listenin to bad habi...</td>\n",
              "    </tr>\n",
              "    <tr>\n",
              "      <th>1</th>\n",
              "      <td>1956967666</td>\n",
              "      <td>sadness</td>\n",
              "      <td>wannamama</td>\n",
              "      <td>Layin n bed with a headache  ughhhh...waitin o...</td>\n",
              "    </tr>\n",
              "    <tr>\n",
              "      <th>2</th>\n",
              "      <td>1956967696</td>\n",
              "      <td>sadness</td>\n",
              "      <td>coolfunky</td>\n",
              "      <td>Funeral ceremony...gloomy friday...</td>\n",
              "    </tr>\n",
              "    <tr>\n",
              "      <th>3</th>\n",
              "      <td>1956967789</td>\n",
              "      <td>enthusiasm</td>\n",
              "      <td>czareaquino</td>\n",
              "      <td>wants to hang out with friends SOON!</td>\n",
              "    </tr>\n",
              "    <tr>\n",
              "      <th>4</th>\n",
              "      <td>1956968416</td>\n",
              "      <td>neutral</td>\n",
              "      <td>xkilljoyx</td>\n",
              "      <td>@dannycastillo We want to trade with someone w...</td>\n",
              "    </tr>\n",
              "    <tr>\n",
              "      <th>...</th>\n",
              "      <td>...</td>\n",
              "      <td>...</td>\n",
              "      <td>...</td>\n",
              "      <td>...</td>\n",
              "    </tr>\n",
              "    <tr>\n",
              "      <th>39995</th>\n",
              "      <td>1753918954</td>\n",
              "      <td>neutral</td>\n",
              "      <td>showMe_Heaven</td>\n",
              "      <td>@JohnLloydTaylor</td>\n",
              "    </tr>\n",
              "    <tr>\n",
              "      <th>39996</th>\n",
              "      <td>1753919001</td>\n",
              "      <td>love</td>\n",
              "      <td>drapeaux</td>\n",
              "      <td>Happy Mothers Day  All my love</td>\n",
              "    </tr>\n",
              "    <tr>\n",
              "      <th>39997</th>\n",
              "      <td>1753919005</td>\n",
              "      <td>love</td>\n",
              "      <td>JenniRox</td>\n",
              "      <td>Happy Mother's Day to all the mommies out ther...</td>\n",
              "    </tr>\n",
              "    <tr>\n",
              "      <th>39998</th>\n",
              "      <td>1753919043</td>\n",
              "      <td>happiness</td>\n",
              "      <td>ipdaman1</td>\n",
              "      <td>@niariley WASSUP BEAUTIFUL!!! FOLLOW ME!!  PEE...</td>\n",
              "    </tr>\n",
              "    <tr>\n",
              "      <th>39999</th>\n",
              "      <td>1753919049</td>\n",
              "      <td>love</td>\n",
              "      <td>Alpharalpha</td>\n",
              "      <td>@mopedronin bullet train from tokyo    the gf ...</td>\n",
              "    </tr>\n",
              "  </tbody>\n",
              "</table>\n",
              "<p>40000 rows × 4 columns</p>\n",
              "</div>\n",
              "      <button class=\"colab-df-convert\" onclick=\"convertToInteractive('df-daad89de-5bf6-4bd4-aad4-2abe5ff687ed')\"\n",
              "              title=\"Convert this dataframe to an interactive table.\"\n",
              "              style=\"display:none;\">\n",
              "        \n",
              "  <svg xmlns=\"http://www.w3.org/2000/svg\" height=\"24px\"viewBox=\"0 0 24 24\"\n",
              "       width=\"24px\">\n",
              "    <path d=\"M0 0h24v24H0V0z\" fill=\"none\"/>\n",
              "    <path d=\"M18.56 5.44l.94 2.06.94-2.06 2.06-.94-2.06-.94-.94-2.06-.94 2.06-2.06.94zm-11 1L8.5 8.5l.94-2.06 2.06-.94-2.06-.94L8.5 2.5l-.94 2.06-2.06.94zm10 10l.94 2.06.94-2.06 2.06-.94-2.06-.94-.94-2.06-.94 2.06-2.06.94z\"/><path d=\"M17.41 7.96l-1.37-1.37c-.4-.4-.92-.59-1.43-.59-.52 0-1.04.2-1.43.59L10.3 9.45l-7.72 7.72c-.78.78-.78 2.05 0 2.83L4 21.41c.39.39.9.59 1.41.59.51 0 1.02-.2 1.41-.59l7.78-7.78 2.81-2.81c.8-.78.8-2.07 0-2.86zM5.41 20L4 18.59l7.72-7.72 1.47 1.35L5.41 20z\"/>\n",
              "  </svg>\n",
              "      </button>\n",
              "      \n",
              "  <style>\n",
              "    .colab-df-container {\n",
              "      display:flex;\n",
              "      flex-wrap:wrap;\n",
              "      gap: 12px;\n",
              "    }\n",
              "\n",
              "    .colab-df-convert {\n",
              "      background-color: #E8F0FE;\n",
              "      border: none;\n",
              "      border-radius: 50%;\n",
              "      cursor: pointer;\n",
              "      display: none;\n",
              "      fill: #1967D2;\n",
              "      height: 32px;\n",
              "      padding: 0 0 0 0;\n",
              "      width: 32px;\n",
              "    }\n",
              "\n",
              "    .colab-df-convert:hover {\n",
              "      background-color: #E2EBFA;\n",
              "      box-shadow: 0px 1px 2px rgba(60, 64, 67, 0.3), 0px 1px 3px 1px rgba(60, 64, 67, 0.15);\n",
              "      fill: #174EA6;\n",
              "    }\n",
              "\n",
              "    [theme=dark] .colab-df-convert {\n",
              "      background-color: #3B4455;\n",
              "      fill: #D2E3FC;\n",
              "    }\n",
              "\n",
              "    [theme=dark] .colab-df-convert:hover {\n",
              "      background-color: #434B5C;\n",
              "      box-shadow: 0px 1px 3px 1px rgba(0, 0, 0, 0.15);\n",
              "      filter: drop-shadow(0px 1px 2px rgba(0, 0, 0, 0.3));\n",
              "      fill: #FFFFFF;\n",
              "    }\n",
              "  </style>\n",
              "\n",
              "      <script>\n",
              "        const buttonEl =\n",
              "          document.querySelector('#df-daad89de-5bf6-4bd4-aad4-2abe5ff687ed button.colab-df-convert');\n",
              "        buttonEl.style.display =\n",
              "          google.colab.kernel.accessAllowed ? 'block' : 'none';\n",
              "\n",
              "        async function convertToInteractive(key) {\n",
              "          const element = document.querySelector('#df-daad89de-5bf6-4bd4-aad4-2abe5ff687ed');\n",
              "          const dataTable =\n",
              "            await google.colab.kernel.invokeFunction('convertToInteractive',\n",
              "                                                     [key], {});\n",
              "          if (!dataTable) return;\n",
              "\n",
              "          const docLinkHtml = 'Like what you see? Visit the ' +\n",
              "            '<a target=\"_blank\" href=https://colab.research.google.com/notebooks/data_table.ipynb>data table notebook</a>'\n",
              "            + ' to learn more about interactive tables.';\n",
              "          element.innerHTML = '';\n",
              "          dataTable['output_type'] = 'display_data';\n",
              "          await google.colab.output.renderOutput(dataTable, element);\n",
              "          const docLink = document.createElement('div');\n",
              "          docLink.innerHTML = docLinkHtml;\n",
              "          element.appendChild(docLink);\n",
              "        }\n",
              "      </script>\n",
              "    </div>\n",
              "  </div>\n",
              "  "
            ]
          },
          "metadata": {},
          "execution_count": 5
        }
      ],
      "source": [
        "train_data = pd.read_csv(\"text_emotion.csv\", sep = \",\")\n",
        "\n",
        "print(\"shape: \", train_data.shape)\n",
        "train_data"
      ]
    },
    {
      "cell_type": "code",
      "execution_count": null,
      "metadata": {
        "id": "ybyb4l-4o7uz"
      },
      "outputs": [],
      "source": [
        "def get_wordnet_pos(word):\n",
        "        tag = nltk.pos_tag([word])[0][1][0].upper()\n",
        "        tag_dict = {\"J\": wordnet.ADJ, \"N\": wordnet.NOUN, \"V\": wordnet.VERB, \"R\": wordnet.ADV}\n",
        "        return tag_dict.get(tag, wordnet.NOUN)   \n",
        "  \n",
        "def prep(tweet):\n",
        "    ps = PorterStemmer()\n",
        "    pattern = re.compile(r\"(.)\\1{2,}\")\n",
        "    tweet = pattern.sub(r\"\\1\\1\", tweet)\n",
        "    tweet = re.sub(r'http.?://[^\\s]+[\\s]?', '', tweet)\n",
        "    tweet = re.sub('\\d+', '', tweet)\n",
        "    punct = string.punctuation\n",
        "    trantab = str.maketrans(punct, len(punct) * ' ')  # Every punctuation symbol will be replaced by a space\n",
        "    tweet = tweet.translate(trantab)\n",
        "    tweet = tweet.lower()\n",
        "    words = tweet.split()\n",
        "    stemmed_words = [ps.stem(word) for word in words]\n",
        "    lemmatizer = WordNetLemmatizer()\n",
        "    lemma_words = [lemmatizer.lemmatize(word, get_wordnet_pos(word)) for word in stemmed_words]\n",
        "    tweet = \" \".join(lemma_words)\n",
        "    return tweet       \n",
        "\n",
        "def word_prob(word):\n",
        "  return dictionary[word] / total\n",
        "\n",
        "def words(text):\n",
        "  '''returns all the words in the input \"text\" as a list '''\n",
        "  return re.findall('[a-z]+', text.lower())\n",
        "  "
      ]
    },
    {
      "cell_type": "code",
      "execution_count": null,
      "metadata": {
        "id": "MMHKO54xpYNN",
        "colab": {
          "base_uri": "https://localhost:8080/"
        },
        "outputId": "0bae72ef-4bc8-407f-c54f-80966d738ad9"
      },
      "outputs": [
        {
          "output_type": "stream",
          "name": "stdout",
          "text": [
            "Max word length:  45\n",
            "total:  535565.0\n"
          ]
        }
      ],
      "source": [
        "# Counter finds the frequency of each word in the list\n",
        "dictionary = Counter(words(open('/content/merged.txt').read())) \n",
        "\n",
        "# take the max_word_length as the one with maximum frequency\n",
        "max_word_length = max(map(len, dictionary))\n",
        "print(\"Max word length: \", max_word_length)\n",
        "\n",
        "# calculate total as the sum of frequencies\n",
        "total = float(sum(dictionary.values()))\n",
        "print(\"total: \", total)"
      ]
    },
    {
      "cell_type": "code",
      "execution_count": null,
      "metadata": {
        "id": "k_tfnnDbpqWO"
      },
      "outputs": [],
      "source": [
        "def viterbi_segment(text):\n",
        "    probs, lasts = [1.0], [0]\n",
        "    for i in range(1, len(text) + 1):\n",
        "        prob_k, k = max((probs[j] * word_prob(text[j:i]), j)\n",
        "                        for j in range(max(0, i - max_word_length), i))\n",
        "        probs.append(prob_k)\n",
        "        lasts.append(k)\n",
        "    words = []\n",
        "    i = len(text)\n",
        "    while 0 < i:\n",
        "        words.append(text[lasts[i]:i])\n",
        "        i = lasts[i]\n",
        "    words.reverse()\n",
        "    return words, probs[-1]\n",
        "\n",
        "def fix_hashtag(text):\n",
        "    text = text.group().split(\":\")[0]\n",
        "    text = text[1:] # remove '#'\n",
        "    try:\n",
        "        test = int(text[0])\n",
        "        text = text[1:]\n",
        "    except:\n",
        "        pass\n",
        "    output = ' '.join(viterbi_segment(text)[0])\n",
        "    return output\n",
        "\n",
        "def clean_tweet(tweet):\n",
        "    tweet = tweet.lower()\n",
        "    tweet = re.sub(\"(#[A-Za-z0-9]+)\", fix_hashtag, tweet)\n",
        "    return ' '.join(re.sub(\"(@[A-Za-z0-9]+)|([^0-9A-Za-z \\t])|(\\w+:\\/\\/\\S+)\", \" \", tweet).split())\n",
        "\n",
        "\n",
        "def vectorise_label(label):\n",
        "    if label == \"empty\":return 1 \n",
        "    elif label == \"sadness\":return 2 \n",
        "    elif label == \"enthusiasm\":return 3 \n",
        "    elif label == \"neutral\":return 0\n",
        "    elif label == \"worry\":return 4\n",
        "    elif label == \"surprise\":return 5 \n",
        "    elif label == \"love\":return 6 \n",
        "    elif label == \"fun\":return 7 \n",
        "    elif label == \"hate\":return 8 \n",
        "    elif label == \"happiness\":return 9\n",
        "    elif label == \"boredom\":return 10 \n",
        "    elif label == \"relief\":return 11 \n",
        "    elif label == \"anger\":return 12 "
      ]
    },
    {
      "cell_type": "code",
      "execution_count": null,
      "metadata": {
        "id": "FfrG-PU-qjXI",
        "colab": {
          "base_uri": "https://localhost:8080/"
        },
        "outputId": "26b58130-7e3a-4d19-fe37-57245215e8e9"
      },
      "outputs": [
        {
          "output_type": "stream",
          "name": "stdout",
          "text": [
            "data.csv created !!\n"
          ]
        }
      ],
      "source": [
        "datawriter = csv.writer(open(\"data.csv\", 'w'), delimiter=',',lineterminator=\"\\n\")\n",
        "\n",
        "totalrows = 40000\n",
        "for row in range(totalrows):\n",
        "  tweet= clean_tweet(train_data.content[row])\n",
        "  datawriter.writerow([tweet, str(vectorise_label(train_data.sentiment[row]))])\n",
        "print(\"data.csv created !!\")\n"
      ]
    },
    {
      "cell_type": "code",
      "source": [
        "def read_csv(file, lis, lis_=[]):\n",
        "    with open(file, newline='') as f:\n",
        "        reader = csv.reader(f)\n",
        "        # print(reader)\n",
        "        for i,row in enumerate(reader):\n",
        "            # print()\n",
        "            cat = row[1]\n",
        "            lis.append(row[0])\n",
        "            lis_.append(int(row[1]))\n",
        "        return  lis, lis_\n",
        "\n",
        "data, emotion =  read_csv(\"data.csv\", lis=[], lis_=[])\n",
        "print(len(data), len(emotion))"
      ],
      "metadata": {
        "colab": {
          "base_uri": "https://localhost:8080/"
        },
        "id": "G_PQMKwOAcZ2",
        "outputId": "81adf87f-6249-4ea9-e64c-186350abf9bf"
      },
      "execution_count": null,
      "outputs": [
        {
          "output_type": "stream",
          "name": "stdout",
          "text": [
            "39968 39968\n"
          ]
        }
      ]
    },
    {
      "cell_type": "code",
      "source": [
        "dataWriter = csv.writer(open('merged_data.csv', 'w'), delimiter=',',lineterminator=\"\\n\")\n",
        "for n,sentence in enumerate(data):\n",
        "    # print(point)\n",
        "    category = emotion[n]\n",
        "    is_happy = category == 3 or category == 5 or category == 7 or category == 9 or category == 11 \n",
        "    is_neutral = category == 0 or category == 1 or  category == 10\n",
        "    is_sad = category == 2 or category == 4\n",
        "    is_anger = category == 8 or category == 12\n",
        "    \n",
        "    if is_happy:\n",
        "        dataWriter.writerow([sentence, 1])\n",
        "    elif is_neutral:\n",
        "        dataWriter.writerow([sentence, 0])\n",
        "    elif is_sad:\n",
        "        dataWriter.writerow([sentence, 2])\n",
        "    elif is_anger:\n",
        "        dataWriter.writerow([sentence, 4])\n",
        "    elif category == 6:\n",
        "        dataWriter.writerow([sentence, 3])\n",
        "    else:\n",
        "        print(sentence,n)"
      ],
      "metadata": {
        "id": "nsAxQ4K3DOq7"
      },
      "execution_count": null,
      "outputs": []
    },
    {
      "cell_type": "code",
      "execution_count": null,
      "metadata": {
        "id": "FwRWBE2mtO6F"
      },
      "outputs": [],
      "source": [
        "MAX_NB_WORDS = 56000 \n",
        "MAX_SEQUENCE_LENGTH = 30\n",
        "VALIDATION_SPLIT = 0.20\n",
        "EMBEDDING_DIM = 200 "
      ]
    },
    {
      "cell_type": "code",
      "execution_count": null,
      "metadata": {
        "id": "4c-oVe7Uvwck"
      },
      "outputs": [],
      "source": [
        "# texts1, labels1 = [], []\n",
        "# data = pd.read_csv(\"merged_data.csv\", delimiter=',')\n",
        "# for a, b in data.itertuples(index=False):\n",
        "#   # print(a,b)\n",
        "  \n",
        "#   texts1.append(a)\n",
        "#   labels1.append(b)\n",
        "# print(texts1)\n",
        "# # print(texts)\n",
        "# print(len(texts1), len(labels1))"
      ]
    },
    {
      "cell_type": "code",
      "source": [
        "data_train = pd.read_csv(\"merged_data.csv\", sep=',', encoding='utf-8' )\n",
        "\n",
        "count  = data_train.iloc[:,1].value_counts()\n",
        "\n",
        "plt.figure(figsize=(10,7))\n",
        "sns.barplot(count.index, count.values, alpha=0.6, palette=\"plasma\")\n",
        "plt.ylabel('Count', fontsize=10)\n",
        "plt.xlabel('Emotions', fontsize=10)\n",
        "plt.show()\n",
        "\n",
        "# 0 - neutral\n",
        "# 1 - happy\n",
        "# 2 - sad\n",
        "# 3 - love\n",
        "# 4 - anger "
      ],
      "metadata": {
        "colab": {
          "base_uri": "https://localhost:8080/",
          "height": 497
        },
        "id": "5QQJe5zai-ZC",
        "outputId": "da04545a-ef5c-4bb4-9ad4-36ac2a9cf327"
      },
      "execution_count": null,
      "outputs": [
        {
          "output_type": "stream",
          "name": "stderr",
          "text": [
            "/usr/local/lib/python3.7/dist-packages/seaborn/_decorators.py:43: FutureWarning: Pass the following variables as keyword args: x, y. From version 0.12, the only valid positional argument will be `data`, and passing other arguments without an explicit keyword will result in an error or misinterpretation.\n",
            "  FutureWarning\n"
          ]
        },
        {
          "output_type": "display_data",
          "data": {
            "text/plain": [
              "<Figure size 720x504 with 1 Axes>"
            ],
            "image/png": "[encoded data removed]"
          },
          "metadata": {
            "needs_background": "light"
          }
        }
      ]
    },
    {
      "cell_type": "code",
      "execution_count": null,
      "metadata": {
        "id": "23pzDIxrzqXo",
        "colab": {
          "base_uri": "https://localhost:8080/"
        },
        "outputId": "cc508a35-5565-46de-de8a-594861a6b025"
      },
      "outputs": [
        {
          "output_type": "stream",
          "name": "stdout",
          "text": [
            "39858 39858\n"
          ]
        }
      ],
      "source": [
        "texts, labels = [], []\n",
        "with open('/content/merged_data.csv') as csvfile:\n",
        "    readCSV = csv.reader(csvfile, delimiter=',')\n",
        "    for row in readCSV:\n",
        "        # print(row)\n",
        "        texts.append(row[0])\n",
        "        labels.append(row[1])\n",
        "print(len(texts), len(labels))"
      ]
    },
    {
      "cell_type": "code",
      "execution_count": null,
      "metadata": {
        "id": "4GPtKcBqxMl3"
      },
      "outputs": [],
      "source": [
        "with open('/content/tokenizer.pickle', 'rb') as handle:\n",
        "    tokenizer = pickle.load(handle)"
      ]
    },
    {
      "cell_type": "code",
      "execution_count": null,
      "metadata": {
        "id": "_VArkh0EyyYJ",
        "colab": {
          "base_uri": "https://localhost:8080/"
        },
        "outputId": "786e7e8c-081f-48cd-af0f-e7b62828a2a5"
      },
      "outputs": [
        {
          "output_type": "stream",
          "name": "stdout",
          "text": [
            "unique words:  34359\n"
          ]
        }
      ],
      "source": [
        "sequences = tokenizer.texts_to_sequences(texts)\n",
        "word_index = tokenizer.word_index\n",
        "data_int = pad_sequences(sequences, padding='pre', maxlen=(MAX_SEQUENCE_LENGTH-5))\n",
        "data = pad_sequences(data_int, padding='post', maxlen=(MAX_SEQUENCE_LENGTH))\n",
        "\n",
        "print(\"unique words: \", len(word_index))"
      ]
    },
    {
      "cell_type": "code",
      "execution_count": null,
      "metadata": {
        "id": "BuJ1rWbKzUJ6",
        "colab": {
          "base_uri": "https://localhost:8080/"
        },
        "outputId": "a2eeb5fd-8492-47db-ab33-276995a45544"
      },
      "outputs": [
        {
          "output_type": "stream",
          "name": "stdout",
          "text": [
            "Shape of data tensor: (39858, 30)\n",
            "Shape of label tensor: (39858, 5)\n"
          ]
        }
      ],
      "source": [
        "# convert labels into onehot vectors\n",
        "labels = to_categorical(np.asarray(labels))\n",
        "print('Shape of data tensor:', data.shape)\n",
        "print('Shape of label tensor:', labels.shape)"
      ]
    },
    {
      "cell_type": "code",
      "execution_count": null,
      "metadata": {
        "id": "uoD4yR9E07CT"
      },
      "outputs": [],
      "source": [
        "indices = np.arange(data.shape[0])\n",
        "np.random.shuffle(indices)\n",
        "data = data[indices]\n",
        "labels = labels[indices]\n",
        "nb_validation_samples = int(VALIDATION_SPLIT * data.shape[0])\n"
      ]
    },
    {
      "cell_type": "code",
      "execution_count": null,
      "metadata": {
        "id": "UM_jd89HCCTi"
      },
      "outputs": [],
      "source": [
        "X_train = data[:-nb_validation_samples]\n",
        "y_train = labels[:-nb_validation_samples]\n",
        "X_val = data[-nb_validation_samples:]\n",
        "y_val = labels[-nb_validation_samples:]"
      ]
    },
    {
      "cell_type": "code",
      "execution_count": null,
      "metadata": {
        "id": "hMTwukfaCIat",
        "colab": {
          "base_uri": "https://localhost:8080/"
        },
        "outputId": "66b85d1c-c0b6-4375-d21d-d8a7348d1762"
      },
      "outputs": [
        {
          "output_type": "stream",
          "name": "stdout",
          "text": [
            "\n",
            "Done!\n"
          ]
        }
      ],
      "source": [
        "embeddings_index = {}\n",
        "f = open(\"/content/glove.twitter.27B.200d.txt\", encoding=\"utf8\")\n",
        "for line in f:\n",
        "    values = line.split()\n",
        "    word = values[0]\n",
        "    embeddings_index[word] = np.asarray(values[1:], dtype='float32')\n",
        "f.close()\n",
        "embedding_matrix = np.random.random((len(word_index) + 1, EMBEDDING_DIM))\n",
        "for word, i in word_index.items():\n",
        "    embedding_vector = embeddings_index.get(word)\n",
        "    if embedding_vector is not None:\n",
        "        # words not found in embedding index will be all-zeros.\n",
        "        embedding_matrix[i] = embedding_vector\n",
        "print(\"\\nDone!\")"
      ]
    },
    {
      "cell_type": "code",
      "execution_count": null,
      "metadata": {
        "id": "Ctgym6kwCOB_",
        "colab": {
          "base_uri": "https://localhost:8080/"
        },
        "outputId": "fef25e16-7a76-4690-c5c2-c08d1a40ead1"
      },
      "outputs": [
        {
          "output_type": "stream",
          "name": "stdout",
          "text": [
            "done!\n"
          ]
        }
      ],
      "source": [
        "# second embedding matrix for non-static channel\n",
        "embedding_matrix_ns = np.random.random((len(word_index) + 1, EMBEDDING_DIM))\n",
        "for word, i in word_index.items():\n",
        "    embedding_vector = embeddings_index.get(word)\n",
        "    if embedding_vector is not None:\n",
        "        # words not found in embedding index will be all-zeros.\n",
        "        embedding_matrix_ns[i] = embedding_vector\n",
        "print(\"done!\")"
      ]
    },
    {
      "cell_type": "code",
      "execution_count": null,
      "metadata": {
        "id": "tFAEzyoTDPHf"
      },
      "outputs": [],
      "source": [
        "sequence_input = Input(shape=(MAX_SEQUENCE_LENGTH,), dtype='int32')\n",
        "\n",
        "# static channel\n",
        "embedding_layer_frozen = Embedding(len(word_index) + 1, EMBEDDING_DIM, weights=[embedding_matrix], input_length=MAX_SEQUENCE_LENGTH, trainable=False)\n",
        "embedded_sequences_frozen = embedding_layer_frozen(sequence_input)\n",
        "\n",
        "# non-static channel\n",
        "embedding_layer_train = Embedding(len(word_index) + 1, EMBEDDING_DIM, weights=[embedding_matrix_ns], input_length=MAX_SEQUENCE_LENGTH, trainable=True)\n",
        "embedded_sequences_train = embedding_layer_train(sequence_input)"
      ]
    },
    {
      "cell_type": "code",
      "execution_count": null,
      "metadata": {
        "id": "-lqknEcbDTCx"
      },
      "outputs": [],
      "source": [
        "l_lstm1f = Bidirectional(LSTM(6,return_sequences=True,dropout=0.3, recurrent_dropout=0.0))(embedded_sequences_frozen)\n",
        "l_lstm1t = Bidirectional(LSTM(6,return_sequences=True,dropout=0.3, recurrent_dropout=0.0))(embedded_sequences_train)\n",
        "l_lstm1 = Concatenate(axis=1)([l_lstm1f, l_lstm1t])\n",
        "\n",
        "l_conv_2 = Conv1D(filters=24,kernel_size=2,activation='relu')(l_lstm1)\n",
        "l_conv_2 = Dropout(0.3)(l_conv_2)\n",
        "l_conv_3 = Conv1D(filters=24,kernel_size=3,activation='relu')(l_lstm1)\n",
        "l_conv_3 = Dropout(0.3)(l_conv_3)\n",
        "\n",
        "l_conv_5 = Conv1D(filters=24,kernel_size=5,activation='relu',)(l_lstm1)\n",
        "l_conv_5 = Dropout(0.3)(l_conv_5)\n",
        "l_conv_6 = Conv1D(filters=24,kernel_size=6,activation='relu',kernel_regularizer=regularizers.l2(0.0001))(l_lstm1)\n",
        "l_conv_6 = Dropout(0.3)(l_conv_6)\n",
        "\n",
        "l_conv_8 = Conv1D(filters=24,kernel_size=8,activation='relu',kernel_regularizer=regularizers.l2(0.0001))(l_lstm1)\n",
        "l_conv_8 = Dropout(0.3)(l_conv_8)\n",
        "\n",
        "conv_1 = [l_conv_6,l_conv_5, l_conv_8,l_conv_2,l_conv_3]\n",
        "\n",
        "l_lstm_c = Concatenate(axis=1)(conv_1)\n",
        "\n",
        "l_conv_4f = Conv1D(filters=12,kernel_size=4,activation='relu',kernel_regularizer=regularizers.l2(0.0001))(embedded_sequences_frozen)\n",
        "l_conv_4f = Dropout(0.3)(l_conv_4f)\n",
        "l_conv_4t = Conv1D(filters=12,kernel_size=4,activation='relu',kernel_regularizer=regularizers.l2(0.0001))(embedded_sequences_train)\n",
        "l_conv_4t = Dropout(0.3)(l_conv_4t)\n",
        "\n",
        "l_conv_3f = Conv1D(filters=12,kernel_size=3,activation='relu',)(embedded_sequences_frozen)\n",
        "l_conv_3f = Dropout(0.3)(l_conv_3f)\n",
        "l_conv_3t = Conv1D(filters=12,kernel_size=3,activation='relu',)(embedded_sequences_train)\n",
        "l_conv_3t = Dropout(0.3)(l_conv_3t)\n",
        "\n",
        "l_conv_2f = Conv1D(filters=12,kernel_size=2,activation='relu')(embedded_sequences_frozen)\n",
        "l_conv_2f = Dropout(0.3)(l_conv_2f)\n",
        "l_conv_2t = Conv1D(filters=12,kernel_size=2,activation='relu')(embedded_sequences_train)\n",
        "l_conv_2t = Dropout(0.3)(l_conv_2t)\n",
        "\n",
        "conv_2 = [l_conv_4f, l_conv_4t,l_conv_3f, l_conv_3t, l_conv_2f, l_conv_2t]\n",
        "\n",
        "l_merge_2 = Concatenate(axis=1)(conv_2)\n",
        "l_c_lstm = Bidirectional(LSTM(12,return_sequences=True,dropout=0.3, recurrent_dropout=0.0))(l_merge_2)\n",
        "\n",
        "\n",
        "l_merge = Concatenate(axis=1)([l_lstm_c, l_c_lstm])\n",
        "l_pool = MaxPooling1D(4)(l_merge)\n",
        "l_drop = Dropout(0.5)(l_pool)\n",
        "l_flat = Flatten()(l_drop)\n",
        "l_dense = Dense(26, activation='relu')(l_flat)\n",
        "preds = Dense(5, activation='softmax')(l_dense)"
      ]
    },
    {
      "cell_type": "code",
      "execution_count": null,
      "metadata": {
        "id": "-YHn4biqDj-c",
        "colab": {
          "base_uri": "https://localhost:8080/"
        },
        "outputId": "48b10b2f-05df-4948-a70c-501cd3121e5d"
      },
      "outputs": [
        {
          "output_type": "stream",
          "name": "stderr",
          "text": [
            "/usr/local/lib/python3.7/dist-packages/keras/optimizer_v2/adadelta.py:74: UserWarning: The `lr` argument is deprecated, use `learning_rate` instead.\n",
            "  super(Adadelta, self).__init__(name, **kwargs)\n"
          ]
        }
      ],
      "source": [
        "model = Model(sequence_input, preds)\n",
        "adadelta = tensorflow.keras.optimizers.Adadelta(lr=0.9, rho=0.95, epsilon=None, decay=0.002)\n",
        "lr_metric = get_lr_metric(adadelta)\n",
        "model.compile(loss='categorical_crossentropy', optimizer=adadelta, metrics=['acc'])"
      ]
    },
    {
      "cell_type": "code",
      "execution_count": null,
      "metadata": {
        "id": "Xb8wAwhUDqU8",
        "colab": {
          "base_uri": "https://localhost:8080/"
        },
        "outputId": "c0e01c66-52a5-46ab-d807-c191b3ca6bd8"
      },
      "outputs": [
        {
          "output_type": "stream",
          "name": "stdout",
          "text": [
            "WARNING:tensorflow:`write_grads` will be ignored in TensorFlow 2.0 for the `TensorBoard` Callback.\n"
          ]
        },
        {
          "output_type": "stream",
          "name": "stderr",
          "text": [
            "WARNING:tensorflow:`write_grads` will be ignored in TensorFlow 2.0 for the `TensorBoard` Callback.\n"
          ]
        },
        {
          "output_type": "stream",
          "name": "stdout",
          "text": [
            "WARNING:tensorflow:`batch_size` is no longer needed in the `TensorBoard` Callback and will be ignored in TensorFlow 2.0.\n"
          ]
        },
        {
          "output_type": "stream",
          "name": "stderr",
          "text": [
            "WARNING:tensorflow:`batch_size` is no longer needed in the `TensorBoard` Callback and will be ignored in TensorFlow 2.0.\n"
          ]
        },
        {
          "output_type": "stream",
          "name": "stdout",
          "text": [
            "WARNING:tensorflow:`period` argument is deprecated. Please use `save_freq` to specify the frequency in number of batches seen.\n"
          ]
        },
        {
          "output_type": "stream",
          "name": "stderr",
          "text": [
            "WARNING:tensorflow:`period` argument is deprecated. Please use `save_freq` to specify the frequency in number of batches seen.\n"
          ]
        }
      ],
      "source": [
        "tensorboard = callbacks.TensorBoard(log_dir='./logs', histogram_freq=0, batch_size=16, write_grads=True , write_graph=True)\n",
        "model_checkpoints = ModelCheckpoint(\"checkpoint-{val_acc:.4f}.h5\", monitor='val_acc', verbose=0, save_best_only=True, save_weights_only=False, mode='auto', period=0)\n",
        "lr_schedule = callbacks.LearningRateScheduler(initial_boost)"
      ]
    },
    {
      "cell_type": "code",
      "execution_count": null,
      "metadata": {
        "id": "FdGWxuI_EQjp"
      },
      "outputs": [],
      "source": [
        "model.save('BalanceNet.h5')"
      ]
    },
    {
      "cell_type": "code",
      "execution_count": null,
      "metadata": {
        "id": "c1hpJWbmEXzB"
      },
      "outputs": [],
      "source": [
        "model = keras.models.load_model(\"/content/BalanceNet.h5\")"
      ]
    },
    {
      "cell_type": "code",
      "execution_count": null,
      "metadata": {
        "colab": {
          "base_uri": "https://localhost:8080/"
        },
        "id": "qqgOemzKEhFH",
        "outputId": "989f9c7c-9642-447a-bac2-f340a6c43f9e"
      },
      "outputs": [
        {
          "output_type": "stream",
          "name": "stdout",
          "text": [
            "Epoch 1/10\n",
            "319/319 [==============================] - 109s 301ms/step - loss: 1.3775 - acc: 0.3933 - val_loss: 1.2901 - val_acc: 0.4602\n",
            "Epoch 2/10\n",
            "319/319 [==============================] - 91s 286ms/step - loss: 1.2598 - acc: 0.4685 - val_loss: 1.2275 - val_acc: 0.5018\n",
            "Epoch 3/10\n",
            "319/319 [==============================] - 90s 281ms/step - loss: 1.2217 - acc: 0.4916 - val_loss: 1.2173 - val_acc: 0.4937\n",
            "Epoch 4/10\n",
            "319/319 [==============================] - 90s 283ms/step - loss: 1.2015 - acc: 0.5072 - val_loss: 1.1962 - val_acc: 0.5116\n",
            "Epoch 5/10\n",
            "319/319 [==============================] - 91s 286ms/step - loss: 1.1883 - acc: 0.5090 - val_loss: 1.1750 - val_acc: 0.5179\n",
            "Epoch 6/10\n",
            "319/319 [==============================] - 90s 282ms/step - loss: 1.1778 - acc: 0.5150 - val_loss: 1.1749 - val_acc: 0.5234\n",
            "Epoch 7/10\n",
            "319/319 [==============================] - 90s 283ms/step - loss: 1.1700 - acc: 0.5172 - val_loss: 1.1727 - val_acc: 0.5193\n",
            "Epoch 8/10\n",
            "319/319 [==============================] - 89s 280ms/step - loss: 1.1633 - acc: 0.5217 - val_loss: 1.1644 - val_acc: 0.5228\n",
            "Epoch 9/10\n",
            "319/319 [==============================] - 90s 283ms/step - loss: 1.1557 - acc: 0.5251 - val_loss: 1.1616 - val_acc: 0.5255\n",
            "Epoch 10/10\n",
            "319/319 [==============================] - 90s 283ms/step - loss: 1.1523 - acc: 0.5268 - val_loss: 1.1625 - val_acc: 0.5254\n"
          ]
        }
      ],
      "source": [
        "model_log = model.fit(X_train, y_train, validation_data=(X_val, y_val), epochs=10, batch_size=100, callbacks=[tensorboard, model_checkpoints])\n",
        "pd.DataFrame(model_log.history).to_csv(\"history-balance.csv\")"
      ]
    },
    {
      "cell_type": "code",
      "source": [
        "import matplotlib.pyplot as plt\n",
        "\n",
        "accuracy = model_log.history['acc']\n",
        "val_accuracy = model_log.history['val_acc']\n",
        "loss = model_log.history['loss']\n",
        "val_loss = model_log.history['val_loss']\n",
        "\n",
        "epochs = range(1, len(accuracy)+1)\n",
        "\n",
        "plt.plot(epochs, accuracy, 'g', label='Training accuracy')\n",
        "plt.plot(epochs, val_accuracy, 'r', label='Validation accuracy')\n",
        "plt.title('Training and validation accuracy')\n",
        "plt.legend()\n",
        "\n",
        "plt.figure()\n",
        "\n",
        "plt.plot(epochs, loss, 'g', label='Training loss')\n",
        "plt.plot(epochs, val_loss, 'r', label='Validation loss')\n",
        "plt.title('Training and validation loss')\n",
        "plt.legend()\n",
        "\n",
        "plt.show()"
      ],
      "metadata": {
        "colab": {
          "base_uri": "https://localhost:8080/",
          "height": 545
        },
        "id": "VbR-2i0lJUGF",
        "outputId": "49005422-a137-4a6a-b8d4-8ade5f8b1e5b"
      },
      "execution_count": null,
      "outputs": [
        {
          "output_type": "display_data",
          "data": {
            "text/plain": [
              "<Figure size 432x288 with 1 Axes>"
            ],
            "image/png": "[encoded data removed]"
          },
          "metadata": {
            "needs_background": "light"
          }
        },
        {
          "output_type": "display_data",
          "data": {
            "text/plain": [
              "<Figure size 432x288 with 1 Axes>"
            ],
            "image/png": "[encoded data removed]"
          },
          "metadata": {
            "needs_background": "light"
          }
        }
      ]
    },
    {
      "cell_type": "code",
      "source": [
        "from keras.models import load_model\n",
        "from sklearn.metrics import classification_report, confusion_matrix\n",
        "import matplotlib.pyplot as plt\n",
        "import numpy as np\n",
        "%config InlineBackend.figure_format = 'retina'\n",
        "import itertools, pickle\n",
        "\n",
        "with open('tokenizer.pickle', 'rb') as handle:\n",
        "    tokenizer = pickle.load(handle)\n",
        "\n",
        "classes = [\"Neutral\", \"Happy\", \"Sad\", \"Love\", \"Anger\"]"
      ],
      "metadata": {
        "id": "wXa1UJPvJVHG"
      },
      "execution_count": null,
      "outputs": []
    },
    {
      "cell_type": "code",
      "source": [
        "model_test = load_model('/content/checkpoint-0.5255.h5')\n",
        "Y_test = np.argmax(y_val, axis=1) # Convert one-hot to index\n",
        "y_pred = model_test.predict(X_val)\n",
        "y_pred_class = np.argmax(y_pred,axis=1)\n",
        "cnf_matrix = confusion_matrix(Y_test, y_pred_class)"
      ],
      "metadata": {
        "id": "tDss0En0Jc0b"
      },
      "execution_count": null,
      "outputs": []
    },
    {
      "cell_type": "code",
      "source": [
        "print(classification_report(Y_test, y_pred_class, target_names=classes))"
      ],
      "metadata": {
        "id": "-nmxWWtrJnnZ",
        "colab": {
          "base_uri": "https://localhost:8080/"
        },
        "outputId": "fbfd0454-0999-4c9a-e697-3711e8541e39"
      },
      "execution_count": null,
      "outputs": [
        {
          "output_type": "stream",
          "name": "stdout",
          "text": [
            "              precision    recall  f1-score   support\n",
            "\n",
            "     Neutral       0.51      0.40      0.45      1957\n",
            "       Happy       0.50      0.54      0.52      2283\n",
            "         Sad       0.56      0.68      0.62      2730\n",
            "        Love       0.50      0.39      0.44       730\n",
            "       Anger       0.33      0.10      0.15       271\n",
            "\n",
            "    accuracy                           0.53      7971\n",
            "   macro avg       0.48      0.42      0.44      7971\n",
            "weighted avg       0.52      0.53      0.51      7971\n",
            "\n"
          ]
        }
      ]
    },
    {
      "cell_type": "code",
      "source": [
        "def plot_confusion_matrix(cm, labels, normalize=True, title='Confusion Matrix (Validation Set)', cmap=plt.cm.Blues):\n",
        "    \"\"\"\n",
        "    This function prints and plots the confusion matrix.\n",
        "    Normalization can be applied by setting `normalize=True`.\n",
        "    \"\"\"\n",
        "    if normalize:\n",
        "        cm = cm.astype('float') / cm.sum(axis=1)[:, np.newaxis]\n",
        "        #print(\"Normalized confusion matrix\")\n",
        "    else:\n",
        "        #print('Confusion matrix, without normalization')\n",
        "        pass\n",
        "\n",
        "    #print(cm)\n",
        "\n",
        "    plt.imshow(cm, interpolation='nearest', cmap=cmap)\n",
        "    plt.title(title)\n",
        "    plt.colorbar()\n",
        "    tick_marks = np.arange(len(labels))\n",
        "    plt.xticks(tick_marks, labels, rotation=45)\n",
        "    plt.yticks(tick_marks, labels)\n",
        "\n",
        "    fmt = '.2f' if normalize else 'd'\n",
        "    thresh = cm.max() / 2.\n",
        "    for i, j in itertools.product(range(cm.shape[0]), range(cm.shape[1])):\n",
        "        plt.text(j, i, format(cm[i, j], fmt),\n",
        "                 horizontalalignment=\"center\",\n",
        "                 color=\"white\" if cm[i, j] > thresh else \"black\")\n",
        "\n",
        "    plt.tight_layout()\n",
        "    plt.ylabel('TRUE LABEL')\n",
        "    plt.xlabel('PPREDICTED LABEL')\n",
        "\n",
        "plt.figure(figsize=(10,6))\n",
        "plot_confusion_matrix(cnf_matrix, labels=classes)"
      ],
      "metadata": {
        "colab": {
          "base_uri": "https://localhost:8080/",
          "height": 454
        },
        "id": "BmQaQjLuwxoU",
        "outputId": "be2af7c1-8171-4a0b-9291-2b2cfbf0b9ee"
      },
      "execution_count": null,
      "outputs": [
        {
          "output_type": "display_data",
          "data": {
            "text/plain": [
              "<Figure size 720x432 with 2 Axes>"
            ],
            "image/png": "[encoded data removed]"
          },
          "metadata": {
            "image/png": {
              "width": 501,
              "height": 437
            },
            "needs_background": "light"
          }
        }
      ]
    },
    {
      "cell_type": "code",
      "source": [
        "#Predicting emotions from paragraphs and sentences.\n",
        "\n",
        "text = [\"For instance, giving a kiss to your younger sibling daily after waking up in the morning and showing him how much you love them. For some happiness means loving life and seeing others happy. While some finds happiness in writing stories. Some conquer happiness in being simple yet the best person they can ever be. Everyone has their own unique way to feel happy by finding things that they never expected to find.\", # happy\n",
        "        \"Love is the key to happiness. We all want to lead a happy life. People look around for happiness in power, fashion, wealth, drugs etc. But these things can only give temporary pleasures. The power of love can create miracles. Love can create unity among nations and its citizens. Love is the most beautiful feeling in the world. Love has given different meaning by different people depending upon how they have experienced this wonderful feeling.\", # love\n",
        "        \"One day I was studying in my room when, all of a sudden, i heard hot words being exchanged between two persons in the street. I paid no attention, thinking it would be a minor quarrel but soon I heard the voices of a large number of people. I peeped from the window and saw that there was a street quarrel. I went downstairs and reached the spot in the twinkling of an eyes. I was at my wits end on seeing that both of them had come to blows. The people were standing around them and enjoying their quarrel but none tried to pacify them.\", # sad\n",
        "        \"I am so angry at you!!!!!\", # anger\n",
        "        \"you ve hit a new low with a danger of blm fascist slogan please stop it before too late stop\", # anger\n",
        "        \"I love my doggg\", # love\n",
        "        \"I think i'm gonna be sick :'‑(\", # sad\n",
        "        \"I hate you so much\", # anger\n",
        "        \"I'm at work\", # neutral\n",
        "        \"@TheTombert i was watching Harpers Island, lol... there was no vodka involved\", # neutral\n",
        "        \"sometimes i wish things could go back to the way they were the beginning of last summer\", # sad\n",
        "        \"it's your 18th birthday finally!!! yippeeeee\", # happy\n",
        "        \"still waiting in line\", # neutral\n",
        "        \"aarrgghh - fu*k.....a hose has leaked water all over the new floating floor\", # anger\n",
        "        \"that b*tch is so ugly\", # anger\n",
        "        \"oh no he is hospitalised!!!\", # sad\n",
        "        ]"
      ],
      "metadata": {
        "id": "Zk2qdPnvJuKC"
      },
      "execution_count": null,
      "outputs": []
    },
    {
      "cell_type": "code",
      "source": [
        "sequences_test = tokenizer.texts_to_sequences(text)\n",
        "data_int_t = pad_sequences(sequences_test, padding='pre', maxlen=(MAX_SEQUENCE_LENGTH-5))\n",
        "data_test = pad_sequences(data_int_t, padding='post', maxlen=(MAX_SEQUENCE_LENGTH))\n",
        "y_prob = model.predict(data_test)\n",
        "for n, prediction in enumerate(y_prob):\n",
        "    pred = y_prob.argmax(axis=-1)[n]\n",
        "    print(text[n],\"\\nPREDICTION:\",classes[pred],\"\\n\")"
      ],
      "metadata": {
        "id": "SggLzM34J2w5",
        "colab": {
          "base_uri": "https://localhost:8080/"
        },
        "outputId": "dce412ec-6b09-4587-e10d-c0d0d6735241"
      },
      "execution_count": null,
      "outputs": [
        {
          "output_type": "stream",
          "name": "stdout",
          "text": [
            "For instance, giving a kiss to your younger sibling daily after waking up in the morning and showing him how much you love them. For some happiness means loving life and seeing others happy. While some finds happiness in writing stories. Some conquer happiness in being simple yet the best person they can ever be. Everyone has their own unique way to feel happy by finding things that they never expected to find. \n",
            "PREDICTION: Happy \n",
            "\n",
            "Love is the key to happiness. We all want to lead a happy life. People look around for happiness in power, fashion, wealth, drugs etc. But these things can only give temporary pleasures. The power of love can create miracles. Love can create unity among nations and its citizens. Love is the most beautiful feeling in the world. Love has given different meaning by different people depending upon how they have experienced this wonderful feeling. \n",
            "PREDICTION: Love \n",
            "\n",
            "One day I was studying in my room when, all of a sudden, i heard hot words being exchanged between two persons in the street. I paid no attention, thinking it would be a minor quarrel but soon I heard the voices of a large number of people. I peeped from the window and saw that there was a street quarrel. I went downstairs and reached the spot in the twinkling of an eyes. I was at my wits end on seeing that both of them had come to blows. The people were standing around them and enjoying their quarrel but none tried to pacify them. \n",
            "PREDICTION: Sad \n",
            "\n",
            "I am so angry at you!!!!! \n",
            "PREDICTION: Sad \n",
            "\n",
            "you ve hit a new low with a danger of blm fascist slogan please stop it before too late stop \n",
            "PREDICTION: Sad \n",
            "\n",
            "I love my doggg \n",
            "PREDICTION: Love \n",
            "\n",
            "I think i'm gonna be sick :'‑( \n",
            "PREDICTION: Sad \n",
            "\n",
            "I hate you so much \n",
            "PREDICTION: Sad \n",
            "\n",
            "I'm at work \n",
            "PREDICTION: Neutral \n",
            "\n",
            "@TheTombert i was watching Harpers Island, lol... there was no vodka involved \n",
            "PREDICTION: Happy \n",
            "\n",
            "sometimes i wish things could go back to the way they were the beginning of last summer \n",
            "PREDICTION: Sad \n",
            "\n",
            "it's your 18th birthday finally!!! yippeeeee \n",
            "PREDICTION: Happy \n",
            "\n",
            "still waiting in line \n",
            "PREDICTION: Neutral \n",
            "\n",
            "aarrgghh - fu*k.....a hose has leaked water all over the new floating floor \n",
            "PREDICTION: Neutral \n",
            "\n",
            "that b*tch is so ugly \n",
            "PREDICTION: Anger \n",
            "\n",
            "oh no he is hospitalised!!! \n",
            "PREDICTION: Sad \n",
            "\n"
          ]
        }
      ]
    }
  ],
  "metadata": {
    "colab": {
      "name": "emotiondetection-deeplearning.ipynb",
      "provenance": []
    },
    "kernelspec": {
      "display_name": "Python 3",
      "name": "python3"
    },
    "language_info": {
      "name": "python"
    }
  },
  "nbformat": 4,
  "nbformat_minor": 0
}